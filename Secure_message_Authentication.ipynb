{
  "nbformat": 4,
  "nbformat_minor": 0,
  "metadata": {
    "colab": {
      "provenance": []
    },
    "kernelspec": {
      "name": "python3",
      "display_name": "Python 3"
    },
    "language_info": {
      "name": "python"
    }
  },
  "cells": [
    {
      "cell_type": "markdown",
      "source": [
        "**PROBLEM STATEMENT:**\n",
        "\n",
        "The risk of the data being accessed by a third party is high when the data\n",
        "enters the cloud platform. Hence a new method to secure the messages/file is to\n",
        "be done either by building a new algorithm or by modifying the existing one\n",
        "which can give more security and consume less time. The identity of the user\n",
        "must also be verified by using the authentication, verification and validation\n",
        "methodologies."
      ],
      "metadata": {
        "id": "xZEcvYHoidzJ"
      }
    },
    {
      "cell_type": "markdown",
      "source": [
        "**Existing Method :**\n",
        "\n",
        "platform level-encryption\n",
        "\n",
        "no way to verify the real user\n",
        "\n",
        "no machine learning to analyze\n",
        "\n",
        "often uses static encryption keys\n",
        "\n",
        "message is sent directly via cloud - based platforms (WhatsApp,Email, etc)\n",
        "\n"
      ],
      "metadata": {
        "id": "sRQBuHqfpQ5S"
      }
    },
    {
      "cell_type": "markdown",
      "source": [
        "**Proposed method:**\n",
        "\n",
        "1. User Authentication via Machine Learning:\n",
        "\n",
        "Based on typing behavior (Keystroke Dynamics).\n",
        "\n",
        "Only genuine users (verified by trained ML model) are allowed to proceed.\n",
        "\n",
        "2. Efficient Encryption/Decryption:\n",
        "\n",
        "Uses AES-based encryption with a dynamically generated key.\n",
        "\n",
        "Files/messages are encrypted only if the user is authenticated.\n",
        "\n",
        "3. Failsafe Mechanism:\n",
        "\n",
        "If authentication fails, the encryption step is blocked, and data is not sent."
      ],
      "metadata": {
        "id": "WG6uI3sxqKHF"
      }
    },
    {
      "cell_type": "markdown",
      "source": [
        "**STEP 1: Upload the Dataset File**"
      ],
      "metadata": {
        "id": "Y2hm89ATrNqg"
      }
    },
    {
      "cell_type": "code",
      "execution_count": 1,
      "metadata": {
        "colab": {
          "base_uri": "https://localhost:8080/",
          "height": 73
        },
        "id": "o36MlnawBaft",
        "outputId": "44c665bc-9367-46c1-e9a3-85954f758328"
      },
      "outputs": [
        {
          "output_type": "display_data",
          "data": {
            "text/plain": [
              "<IPython.core.display.HTML object>"
            ],
            "text/html": [
              "\n",
              "     <input type=\"file\" id=\"files-5208c3e7-76cf-4ad5-b5ea-854589047363\" name=\"files[]\" multiple disabled\n",
              "        style=\"border:none\" />\n",
              "     <output id=\"result-5208c3e7-76cf-4ad5-b5ea-854589047363\">\n",
              "      Upload widget is only available when the cell has been executed in the\n",
              "      current browser session. Please rerun this cell to enable.\n",
              "      </output>\n",
              "      <script>// Copyright 2017 Google LLC\n",
              "//\n",
              "// Licensed under the Apache License, Version 2.0 (the \"License\");\n",
              "// you may not use this file except in compliance with the License.\n",
              "// You may obtain a copy of the License at\n",
              "//\n",
              "//      http://www.apache.org/licenses/LICENSE-2.0\n",
              "//\n",
              "// Unless required by applicable law or agreed to in writing, software\n",
              "// distributed under the License is distributed on an \"AS IS\" BASIS,\n",
              "// WITHOUT WARRANTIES OR CONDITIONS OF ANY KIND, either express or implied.\n",
              "// See the License for the specific language governing permissions and\n",
              "// limitations under the License.\n",
              "\n",
              "/**\n",
              " * @fileoverview Helpers for google.colab Python module.\n",
              " */\n",
              "(function(scope) {\n",
              "function span(text, styleAttributes = {}) {\n",
              "  const element = document.createElement('span');\n",
              "  element.textContent = text;\n",
              "  for (const key of Object.keys(styleAttributes)) {\n",
              "    element.style[key] = styleAttributes[key];\n",
              "  }\n",
              "  return element;\n",
              "}\n",
              "\n",
              "// Max number of bytes which will be uploaded at a time.\n",
              "const MAX_PAYLOAD_SIZE = 100 * 1024;\n",
              "\n",
              "function _uploadFiles(inputId, outputId) {\n",
              "  const steps = uploadFilesStep(inputId, outputId);\n",
              "  const outputElement = document.getElementById(outputId);\n",
              "  // Cache steps on the outputElement to make it available for the next call\n",
              "  // to uploadFilesContinue from Python.\n",
              "  outputElement.steps = steps;\n",
              "\n",
              "  return _uploadFilesContinue(outputId);\n",
              "}\n",
              "\n",
              "// This is roughly an async generator (not supported in the browser yet),\n",
              "// where there are multiple asynchronous steps and the Python side is going\n",
              "// to poll for completion of each step.\n",
              "// This uses a Promise to block the python side on completion of each step,\n",
              "// then passes the result of the previous step as the input to the next step.\n",
              "function _uploadFilesContinue(outputId) {\n",
              "  const outputElement = document.getElementById(outputId);\n",
              "  const steps = outputElement.steps;\n",
              "\n",
              "  const next = steps.next(outputElement.lastPromiseValue);\n",
              "  return Promise.resolve(next.value.promise).then((value) => {\n",
              "    // Cache the last promise value to make it available to the next\n",
              "    // step of the generator.\n",
              "    outputElement.lastPromiseValue = value;\n",
              "    return next.value.response;\n",
              "  });\n",
              "}\n",
              "\n",
              "/**\n",
              " * Generator function which is called between each async step of the upload\n",
              " * process.\n",
              " * @param {string} inputId Element ID of the input file picker element.\n",
              " * @param {string} outputId Element ID of the output display.\n",
              " * @return {!Iterable<!Object>} Iterable of next steps.\n",
              " */\n",
              "function* uploadFilesStep(inputId, outputId) {\n",
              "  const inputElement = document.getElementById(inputId);\n",
              "  inputElement.disabled = false;\n",
              "\n",
              "  const outputElement = document.getElementById(outputId);\n",
              "  outputElement.innerHTML = '';\n",
              "\n",
              "  const pickedPromise = new Promise((resolve) => {\n",
              "    inputElement.addEventListener('change', (e) => {\n",
              "      resolve(e.target.files);\n",
              "    });\n",
              "  });\n",
              "\n",
              "  const cancel = document.createElement('button');\n",
              "  inputElement.parentElement.appendChild(cancel);\n",
              "  cancel.textContent = 'Cancel upload';\n",
              "  const cancelPromise = new Promise((resolve) => {\n",
              "    cancel.onclick = () => {\n",
              "      resolve(null);\n",
              "    };\n",
              "  });\n",
              "\n",
              "  // Wait for the user to pick the files.\n",
              "  const files = yield {\n",
              "    promise: Promise.race([pickedPromise, cancelPromise]),\n",
              "    response: {\n",
              "      action: 'starting',\n",
              "    }\n",
              "  };\n",
              "\n",
              "  cancel.remove();\n",
              "\n",
              "  // Disable the input element since further picks are not allowed.\n",
              "  inputElement.disabled = true;\n",
              "\n",
              "  if (!files) {\n",
              "    return {\n",
              "      response: {\n",
              "        action: 'complete',\n",
              "      }\n",
              "    };\n",
              "  }\n",
              "\n",
              "  for (const file of files) {\n",
              "    const li = document.createElement('li');\n",
              "    li.append(span(file.name, {fontWeight: 'bold'}));\n",
              "    li.append(span(\n",
              "        `(${file.type || 'n/a'}) - ${file.size} bytes, ` +\n",
              "        `last modified: ${\n",
              "            file.lastModifiedDate ? file.lastModifiedDate.toLocaleDateString() :\n",
              "                                    'n/a'} - `));\n",
              "    const percent = span('0% done');\n",
              "    li.appendChild(percent);\n",
              "\n",
              "    outputElement.appendChild(li);\n",
              "\n",
              "    const fileDataPromise = new Promise((resolve) => {\n",
              "      const reader = new FileReader();\n",
              "      reader.onload = (e) => {\n",
              "        resolve(e.target.result);\n",
              "      };\n",
              "      reader.readAsArrayBuffer(file);\n",
              "    });\n",
              "    // Wait for the data to be ready.\n",
              "    let fileData = yield {\n",
              "      promise: fileDataPromise,\n",
              "      response: {\n",
              "        action: 'continue',\n",
              "      }\n",
              "    };\n",
              "\n",
              "    // Use a chunked sending to avoid message size limits. See b/62115660.\n",
              "    let position = 0;\n",
              "    do {\n",
              "      const length = Math.min(fileData.byteLength - position, MAX_PAYLOAD_SIZE);\n",
              "      const chunk = new Uint8Array(fileData, position, length);\n",
              "      position += length;\n",
              "\n",
              "      const base64 = btoa(String.fromCharCode.apply(null, chunk));\n",
              "      yield {\n",
              "        response: {\n",
              "          action: 'append',\n",
              "          file: file.name,\n",
              "          data: base64,\n",
              "        },\n",
              "      };\n",
              "\n",
              "      let percentDone = fileData.byteLength === 0 ?\n",
              "          100 :\n",
              "          Math.round((position / fileData.byteLength) * 100);\n",
              "      percent.textContent = `${percentDone}% done`;\n",
              "\n",
              "    } while (position < fileData.byteLength);\n",
              "  }\n",
              "\n",
              "  // All done.\n",
              "  yield {\n",
              "    response: {\n",
              "      action: 'complete',\n",
              "    }\n",
              "  };\n",
              "}\n",
              "\n",
              "scope.google = scope.google || {};\n",
              "scope.google.colab = scope.google.colab || {};\n",
              "scope.google.colab._files = {\n",
              "  _uploadFiles,\n",
              "  _uploadFilesContinue,\n",
              "};\n",
              "})(self);\n",
              "</script> "
            ]
          },
          "metadata": {}
        },
        {
          "output_type": "stream",
          "name": "stdout",
          "text": [
            "Saving DSL-StrongPasswordData.csv to DSL-StrongPasswordData.csv\n"
          ]
        }
      ],
      "source": [
        "from google.colab import files\n",
        "uploaded = files.upload()\n"
      ]
    },
    {
      "cell_type": "markdown",
      "source": [
        "**STEP 2: Importing Required Important Libraries for ML Model**"
      ],
      "metadata": {
        "id": "mLkCS8S9ny4U"
      }
    },
    {
      "cell_type": "code",
      "source": [
        "!pip install cryptography\n",
        "import pandas as pd\n",
        "import numpy as np\n",
        "from cryptography.fernet import Fernet\n",
        "from sklearn.model_selection import train_test_split\n",
        "from sklearn.ensemble import RandomForestClassifier\n",
        "from sklearn.metrics import accuracy_score\n"
      ],
      "metadata": {
        "colab": {
          "base_uri": "https://localhost:8080/"
        },
        "id": "qcBzGQs9CLL-",
        "outputId": "63de61ba-b829-460b-b9c9-0a0f94af8ce9"
      },
      "execution_count": 2,
      "outputs": [
        {
          "output_type": "stream",
          "name": "stdout",
          "text": [
            "Requirement already satisfied: cryptography in /usr/local/lib/python3.11/dist-packages (43.0.3)\n",
            "Requirement already satisfied: cffi>=1.12 in /usr/local/lib/python3.11/dist-packages (from cryptography) (1.17.1)\n",
            "Requirement already satisfied: pycparser in /usr/local/lib/python3.11/dist-packages (from cffi>=1.12->cryptography) (2.22)\n"
          ]
        }
      ]
    },
    {
      "cell_type": "markdown",
      "source": [
        "**STEP 3: Loading the Dataset**"
      ],
      "metadata": {
        "id": "sLX0UojknRBv"
      }
    },
    {
      "cell_type": "code",
      "source": [
        "df = pd.read_csv(\"DSL-StrongPasswordData.csv\")\n",
        "\n",
        "df.head()\n"
      ],
      "metadata": {
        "colab": {
          "base_uri": "https://localhost:8080/",
          "height": 236
        },
        "id": "eLFJhob6CWRw",
        "outputId": "90a035d9-1488-4d33-db75-358c36940a84"
      },
      "execution_count": 3,
      "outputs": [
        {
          "output_type": "execute_result",
          "data": {
            "text/plain": [
              "  subject  sessionIndex  rep  H.period  DD.period.t  UD.period.t     H.t  \\\n",
              "0    s002             1    1    0.1491       0.3979       0.2488  0.1069   \n",
              "1    s002             1    2    0.1111       0.3451       0.2340  0.0694   \n",
              "2    s002             1    3    0.1328       0.2072       0.0744  0.0731   \n",
              "3    s002             1    4    0.1291       0.2515       0.1224  0.1059   \n",
              "4    s002             1    5    0.1249       0.2317       0.1068  0.0895   \n",
              "\n",
              "   DD.t.i  UD.t.i     H.i  ...     H.a  DD.a.n  UD.a.n     H.n  DD.n.l  \\\n",
              "0  0.1674  0.0605  0.1169  ...  0.1349  0.1484  0.0135  0.0932  0.3515   \n",
              "1  0.1283  0.0589  0.0908  ...  0.1412  0.2558  0.1146  0.1146  0.2642   \n",
              "2  0.1291  0.0560  0.0821  ...  0.1621  0.2332  0.0711  0.1172  0.2705   \n",
              "3  0.2495  0.1436  0.1040  ...  0.1457  0.1629  0.0172  0.0866  0.2341   \n",
              "4  0.1676  0.0781  0.0903  ...  0.1312  0.1582  0.0270  0.0884  0.2517   \n",
              "\n",
              "   UD.n.l     H.l  DD.l.Return  UD.l.Return  H.Return  \n",
              "0  0.2583  0.1338       0.3509       0.2171    0.0742  \n",
              "1  0.1496  0.0839       0.2756       0.1917    0.0747  \n",
              "2  0.1533  0.1085       0.2847       0.1762    0.0945  \n",
              "3  0.1475  0.0845       0.3232       0.2387    0.0813  \n",
              "4  0.1633  0.0903       0.2517       0.1614    0.0818  \n",
              "\n",
              "[5 rows x 34 columns]"
            ],
            "text/html": [
              "\n",
              "  <div id=\"df-528bdc93-259e-472b-afa4-377fd9e4b41e\" class=\"colab-df-container\">\n",
              "    <div>\n",
              "<style scoped>\n",
              "    .dataframe tbody tr th:only-of-type {\n",
              "        vertical-align: middle;\n",
              "    }\n",
              "\n",
              "    .dataframe tbody tr th {\n",
              "        vertical-align: top;\n",
              "    }\n",
              "\n",
              "    .dataframe thead th {\n",
              "        text-align: right;\n",
              "    }\n",
              "</style>\n",
              "<table border=\"1\" class=\"dataframe\">\n",
              "  <thead>\n",
              "    <tr style=\"text-align: right;\">\n",
              "      <th></th>\n",
              "      <th>subject</th>\n",
              "      <th>sessionIndex</th>\n",
              "      <th>rep</th>\n",
              "      <th>H.period</th>\n",
              "      <th>DD.period.t</th>\n",
              "      <th>UD.period.t</th>\n",
              "      <th>H.t</th>\n",
              "      <th>DD.t.i</th>\n",
              "      <th>UD.t.i</th>\n",
              "      <th>H.i</th>\n",
              "      <th>...</th>\n",
              "      <th>H.a</th>\n",
              "      <th>DD.a.n</th>\n",
              "      <th>UD.a.n</th>\n",
              "      <th>H.n</th>\n",
              "      <th>DD.n.l</th>\n",
              "      <th>UD.n.l</th>\n",
              "      <th>H.l</th>\n",
              "      <th>DD.l.Return</th>\n",
              "      <th>UD.l.Return</th>\n",
              "      <th>H.Return</th>\n",
              "    </tr>\n",
              "  </thead>\n",
              "  <tbody>\n",
              "    <tr>\n",
              "      <th>0</th>\n",
              "      <td>s002</td>\n",
              "      <td>1</td>\n",
              "      <td>1</td>\n",
              "      <td>0.1491</td>\n",
              "      <td>0.3979</td>\n",
              "      <td>0.2488</td>\n",
              "      <td>0.1069</td>\n",
              "      <td>0.1674</td>\n",
              "      <td>0.0605</td>\n",
              "      <td>0.1169</td>\n",
              "      <td>...</td>\n",
              "      <td>0.1349</td>\n",
              "      <td>0.1484</td>\n",
              "      <td>0.0135</td>\n",
              "      <td>0.0932</td>\n",
              "      <td>0.3515</td>\n",
              "      <td>0.2583</td>\n",
              "      <td>0.1338</td>\n",
              "      <td>0.3509</td>\n",
              "      <td>0.2171</td>\n",
              "      <td>0.0742</td>\n",
              "    </tr>\n",
              "    <tr>\n",
              "      <th>1</th>\n",
              "      <td>s002</td>\n",
              "      <td>1</td>\n",
              "      <td>2</td>\n",
              "      <td>0.1111</td>\n",
              "      <td>0.3451</td>\n",
              "      <td>0.2340</td>\n",
              "      <td>0.0694</td>\n",
              "      <td>0.1283</td>\n",
              "      <td>0.0589</td>\n",
              "      <td>0.0908</td>\n",
              "      <td>...</td>\n",
              "      <td>0.1412</td>\n",
              "      <td>0.2558</td>\n",
              "      <td>0.1146</td>\n",
              "      <td>0.1146</td>\n",
              "      <td>0.2642</td>\n",
              "      <td>0.1496</td>\n",
              "      <td>0.0839</td>\n",
              "      <td>0.2756</td>\n",
              "      <td>0.1917</td>\n",
              "      <td>0.0747</td>\n",
              "    </tr>\n",
              "    <tr>\n",
              "      <th>2</th>\n",
              "      <td>s002</td>\n",
              "      <td>1</td>\n",
              "      <td>3</td>\n",
              "      <td>0.1328</td>\n",
              "      <td>0.2072</td>\n",
              "      <td>0.0744</td>\n",
              "      <td>0.0731</td>\n",
              "      <td>0.1291</td>\n",
              "      <td>0.0560</td>\n",
              "      <td>0.0821</td>\n",
              "      <td>...</td>\n",
              "      <td>0.1621</td>\n",
              "      <td>0.2332</td>\n",
              "      <td>0.0711</td>\n",
              "      <td>0.1172</td>\n",
              "      <td>0.2705</td>\n",
              "      <td>0.1533</td>\n",
              "      <td>0.1085</td>\n",
              "      <td>0.2847</td>\n",
              "      <td>0.1762</td>\n",
              "      <td>0.0945</td>\n",
              "    </tr>\n",
              "    <tr>\n",
              "      <th>3</th>\n",
              "      <td>s002</td>\n",
              "      <td>1</td>\n",
              "      <td>4</td>\n",
              "      <td>0.1291</td>\n",
              "      <td>0.2515</td>\n",
              "      <td>0.1224</td>\n",
              "      <td>0.1059</td>\n",
              "      <td>0.2495</td>\n",
              "      <td>0.1436</td>\n",
              "      <td>0.1040</td>\n",
              "      <td>...</td>\n",
              "      <td>0.1457</td>\n",
              "      <td>0.1629</td>\n",
              "      <td>0.0172</td>\n",
              "      <td>0.0866</td>\n",
              "      <td>0.2341</td>\n",
              "      <td>0.1475</td>\n",
              "      <td>0.0845</td>\n",
              "      <td>0.3232</td>\n",
              "      <td>0.2387</td>\n",
              "      <td>0.0813</td>\n",
              "    </tr>\n",
              "    <tr>\n",
              "      <th>4</th>\n",
              "      <td>s002</td>\n",
              "      <td>1</td>\n",
              "      <td>5</td>\n",
              "      <td>0.1249</td>\n",
              "      <td>0.2317</td>\n",
              "      <td>0.1068</td>\n",
              "      <td>0.0895</td>\n",
              "      <td>0.1676</td>\n",
              "      <td>0.0781</td>\n",
              "      <td>0.0903</td>\n",
              "      <td>...</td>\n",
              "      <td>0.1312</td>\n",
              "      <td>0.1582</td>\n",
              "      <td>0.0270</td>\n",
              "      <td>0.0884</td>\n",
              "      <td>0.2517</td>\n",
              "      <td>0.1633</td>\n",
              "      <td>0.0903</td>\n",
              "      <td>0.2517</td>\n",
              "      <td>0.1614</td>\n",
              "      <td>0.0818</td>\n",
              "    </tr>\n",
              "  </tbody>\n",
              "</table>\n",
              "<p>5 rows × 34 columns</p>\n",
              "</div>\n",
              "    <div class=\"colab-df-buttons\">\n",
              "\n",
              "  <div class=\"colab-df-container\">\n",
              "    <button class=\"colab-df-convert\" onclick=\"convertToInteractive('df-528bdc93-259e-472b-afa4-377fd9e4b41e')\"\n",
              "            title=\"Convert this dataframe to an interactive table.\"\n",
              "            style=\"display:none;\">\n",
              "\n",
              "  <svg xmlns=\"http://www.w3.org/2000/svg\" height=\"24px\" viewBox=\"0 -960 960 960\">\n",
              "    <path d=\"M120-120v-720h720v720H120Zm60-500h600v-160H180v160Zm220 220h160v-160H400v160Zm0 220h160v-160H400v160ZM180-400h160v-160H180v160Zm440 0h160v-160H620v160ZM180-180h160v-160H180v160Zm440 0h160v-160H620v160Z\"/>\n",
              "  </svg>\n",
              "    </button>\n",
              "\n",
              "  <style>\n",
              "    .colab-df-container {\n",
              "      display:flex;\n",
              "      gap: 12px;\n",
              "    }\n",
              "\n",
              "    .colab-df-convert {\n",
              "      background-color: #E8F0FE;\n",
              "      border: none;\n",
              "      border-radius: 50%;\n",
              "      cursor: pointer;\n",
              "      display: none;\n",
              "      fill: #1967D2;\n",
              "      height: 32px;\n",
              "      padding: 0 0 0 0;\n",
              "      width: 32px;\n",
              "    }\n",
              "\n",
              "    .colab-df-convert:hover {\n",
              "      background-color: #E2EBFA;\n",
              "      box-shadow: 0px 1px 2px rgba(60, 64, 67, 0.3), 0px 1px 3px 1px rgba(60, 64, 67, 0.15);\n",
              "      fill: #174EA6;\n",
              "    }\n",
              "\n",
              "    .colab-df-buttons div {\n",
              "      margin-bottom: 4px;\n",
              "    }\n",
              "\n",
              "    [theme=dark] .colab-df-convert {\n",
              "      background-color: #3B4455;\n",
              "      fill: #D2E3FC;\n",
              "    }\n",
              "\n",
              "    [theme=dark] .colab-df-convert:hover {\n",
              "      background-color: #434B5C;\n",
              "      box-shadow: 0px 1px 3px 1px rgba(0, 0, 0, 0.15);\n",
              "      filter: drop-shadow(0px 1px 2px rgba(0, 0, 0, 0.3));\n",
              "      fill: #FFFFFF;\n",
              "    }\n",
              "  </style>\n",
              "\n",
              "    <script>\n",
              "      const buttonEl =\n",
              "        document.querySelector('#df-528bdc93-259e-472b-afa4-377fd9e4b41e button.colab-df-convert');\n",
              "      buttonEl.style.display =\n",
              "        google.colab.kernel.accessAllowed ? 'block' : 'none';\n",
              "\n",
              "      async function convertToInteractive(key) {\n",
              "        const element = document.querySelector('#df-528bdc93-259e-472b-afa4-377fd9e4b41e');\n",
              "        const dataTable =\n",
              "          await google.colab.kernel.invokeFunction('convertToInteractive',\n",
              "                                                    [key], {});\n",
              "        if (!dataTable) return;\n",
              "\n",
              "        const docLinkHtml = 'Like what you see? Visit the ' +\n",
              "          '<a target=\"_blank\" href=https://colab.research.google.com/notebooks/data_table.ipynb>data table notebook</a>'\n",
              "          + ' to learn more about interactive tables.';\n",
              "        element.innerHTML = '';\n",
              "        dataTable['output_type'] = 'display_data';\n",
              "        await google.colab.output.renderOutput(dataTable, element);\n",
              "        const docLink = document.createElement('div');\n",
              "        docLink.innerHTML = docLinkHtml;\n",
              "        element.appendChild(docLink);\n",
              "      }\n",
              "    </script>\n",
              "  </div>\n",
              "\n",
              "\n",
              "    <div id=\"df-12a159fd-4438-45d2-a4d2-1abda7a4115a\">\n",
              "      <button class=\"colab-df-quickchart\" onclick=\"quickchart('df-12a159fd-4438-45d2-a4d2-1abda7a4115a')\"\n",
              "                title=\"Suggest charts\"\n",
              "                style=\"display:none;\">\n",
              "\n",
              "<svg xmlns=\"http://www.w3.org/2000/svg\" height=\"24px\"viewBox=\"0 0 24 24\"\n",
              "     width=\"24px\">\n",
              "    <g>\n",
              "        <path d=\"M19 3H5c-1.1 0-2 .9-2 2v14c0 1.1.9 2 2 2h14c1.1 0 2-.9 2-2V5c0-1.1-.9-2-2-2zM9 17H7v-7h2v7zm4 0h-2V7h2v10zm4 0h-2v-4h2v4z\"/>\n",
              "    </g>\n",
              "</svg>\n",
              "      </button>\n",
              "\n",
              "<style>\n",
              "  .colab-df-quickchart {\n",
              "      --bg-color: #E8F0FE;\n",
              "      --fill-color: #1967D2;\n",
              "      --hover-bg-color: #E2EBFA;\n",
              "      --hover-fill-color: #174EA6;\n",
              "      --disabled-fill-color: #AAA;\n",
              "      --disabled-bg-color: #DDD;\n",
              "  }\n",
              "\n",
              "  [theme=dark] .colab-df-quickchart {\n",
              "      --bg-color: #3B4455;\n",
              "      --fill-color: #D2E3FC;\n",
              "      --hover-bg-color: #434B5C;\n",
              "      --hover-fill-color: #FFFFFF;\n",
              "      --disabled-bg-color: #3B4455;\n",
              "      --disabled-fill-color: #666;\n",
              "  }\n",
              "\n",
              "  .colab-df-quickchart {\n",
              "    background-color: var(--bg-color);\n",
              "    border: none;\n",
              "    border-radius: 50%;\n",
              "    cursor: pointer;\n",
              "    display: none;\n",
              "    fill: var(--fill-color);\n",
              "    height: 32px;\n",
              "    padding: 0;\n",
              "    width: 32px;\n",
              "  }\n",
              "\n",
              "  .colab-df-quickchart:hover {\n",
              "    background-color: var(--hover-bg-color);\n",
              "    box-shadow: 0 1px 2px rgba(60, 64, 67, 0.3), 0 1px 3px 1px rgba(60, 64, 67, 0.15);\n",
              "    fill: var(--button-hover-fill-color);\n",
              "  }\n",
              "\n",
              "  .colab-df-quickchart-complete:disabled,\n",
              "  .colab-df-quickchart-complete:disabled:hover {\n",
              "    background-color: var(--disabled-bg-color);\n",
              "    fill: var(--disabled-fill-color);\n",
              "    box-shadow: none;\n",
              "  }\n",
              "\n",
              "  .colab-df-spinner {\n",
              "    border: 2px solid var(--fill-color);\n",
              "    border-color: transparent;\n",
              "    border-bottom-color: var(--fill-color);\n",
              "    animation:\n",
              "      spin 1s steps(1) infinite;\n",
              "  }\n",
              "\n",
              "  @keyframes spin {\n",
              "    0% {\n",
              "      border-color: transparent;\n",
              "      border-bottom-color: var(--fill-color);\n",
              "      border-left-color: var(--fill-color);\n",
              "    }\n",
              "    20% {\n",
              "      border-color: transparent;\n",
              "      border-left-color: var(--fill-color);\n",
              "      border-top-color: var(--fill-color);\n",
              "    }\n",
              "    30% {\n",
              "      border-color: transparent;\n",
              "      border-left-color: var(--fill-color);\n",
              "      border-top-color: var(--fill-color);\n",
              "      border-right-color: var(--fill-color);\n",
              "    }\n",
              "    40% {\n",
              "      border-color: transparent;\n",
              "      border-right-color: var(--fill-color);\n",
              "      border-top-color: var(--fill-color);\n",
              "    }\n",
              "    60% {\n",
              "      border-color: transparent;\n",
              "      border-right-color: var(--fill-color);\n",
              "    }\n",
              "    80% {\n",
              "      border-color: transparent;\n",
              "      border-right-color: var(--fill-color);\n",
              "      border-bottom-color: var(--fill-color);\n",
              "    }\n",
              "    90% {\n",
              "      border-color: transparent;\n",
              "      border-bottom-color: var(--fill-color);\n",
              "    }\n",
              "  }\n",
              "</style>\n",
              "\n",
              "      <script>\n",
              "        async function quickchart(key) {\n",
              "          const quickchartButtonEl =\n",
              "            document.querySelector('#' + key + ' button');\n",
              "          quickchartButtonEl.disabled = true;  // To prevent multiple clicks.\n",
              "          quickchartButtonEl.classList.add('colab-df-spinner');\n",
              "          try {\n",
              "            const charts = await google.colab.kernel.invokeFunction(\n",
              "                'suggestCharts', [key], {});\n",
              "          } catch (error) {\n",
              "            console.error('Error during call to suggestCharts:', error);\n",
              "          }\n",
              "          quickchartButtonEl.classList.remove('colab-df-spinner');\n",
              "          quickchartButtonEl.classList.add('colab-df-quickchart-complete');\n",
              "        }\n",
              "        (() => {\n",
              "          let quickchartButtonEl =\n",
              "            document.querySelector('#df-12a159fd-4438-45d2-a4d2-1abda7a4115a button');\n",
              "          quickchartButtonEl.style.display =\n",
              "            google.colab.kernel.accessAllowed ? 'block' : 'none';\n",
              "        })();\n",
              "      </script>\n",
              "    </div>\n",
              "\n",
              "    </div>\n",
              "  </div>\n"
            ],
            "application/vnd.google.colaboratory.intrinsic+json": {
              "type": "dataframe",
              "variable_name": "df"
            }
          },
          "metadata": {},
          "execution_count": 3
        }
      ]
    },
    {
      "cell_type": "markdown",
      "source": [
        "**STEP 4: Setting up Feature Engineering (Extracting Timing Features)**"
      ],
      "metadata": {
        "id": "KKwuYrLMm65G"
      }
    },
    {
      "cell_type": "code",
      "source": [
        "# Extract only the timing-related features\n",
        "feature_cols = [col for col in df.columns if col.startswith((\"H.\", \"DD.\", \"UD.\"))]\n",
        "X = df[feature_cols]\n",
        "\n",
        "# Convert subject to binary: subject 1 is real user, others are fake\n",
        "df['label'] = (df['subject'] == 1).astype(int)\n",
        "y = df['label']\n"
      ],
      "metadata": {
        "id": "dCvwivJtEO-A"
      },
      "execution_count": 4,
      "outputs": []
    },
    {
      "cell_type": "markdown",
      "source": [
        "**STEP 5: Training the Authentication ML Model**"
      ],
      "metadata": {
        "id": "eDoLavgsmsqr"
      }
    },
    {
      "cell_type": "code",
      "source": [
        "from sklearn.model_selection import train_test_split\n",
        "from sklearn.ensemble import RandomForestClassifier\n",
        "from sklearn.metrics import accuracy_score\n",
        "\n",
        "# Split data\n",
        "X_train, X_test, y_train, y_test = train_test_split(X, y, test_size=0.3, random_state=42)\n",
        "\n",
        "# Train Random Forest model\n",
        "model = RandomForestClassifier()\n",
        "model.fit(X_train, y_train)\n",
        "\n",
        "# Predict and evaluate\n",
        "y_pred = model.predict(X_test)\n",
        "print(\"Authentication Accuracy:\", accuracy_score(y_test, y_pred))\n"
      ],
      "metadata": {
        "colab": {
          "base_uri": "https://localhost:8080/"
        },
        "id": "Q7Sb87vCEcT6",
        "outputId": "1385c23b-30d8-4ba0-8ab9-40cd838eb605"
      },
      "execution_count": 5,
      "outputs": [
        {
          "output_type": "stream",
          "name": "stdout",
          "text": [
            "Authentication Accuracy: 1.0\n"
          ]
        }
      ]
    },
    {
      "cell_type": "markdown",
      "source": [
        "**STEP 6: Seting Up Encryption Functions**"
      ],
      "metadata": {
        "id": "Ae4S5nRwk27E"
      }
    },
    {
      "cell_type": "code",
      "source": [
        "from cryptography.fernet import Fernet\n",
        "\n",
        "# Generate and initialize encryption key\n",
        "key = Fernet.generate_key()\n",
        "cipher = Fernet(key)\n",
        "\n",
        "# Define encryption/decryption functions\n",
        "def encrypt_message(message):\n",
        "    return cipher.encrypt(message.encode()).decode()\n",
        "\n",
        "def decrypt_message(encrypted_msg):\n",
        "    return cipher.decrypt(encrypted_msg.encode()).decode()\n"
      ],
      "metadata": {
        "id": "0METvujHEkfr"
      },
      "execution_count": 6,
      "outputs": []
    },
    {
      "cell_type": "markdown",
      "source": [
        "**STEP 7: See Which Subjects Are Available**"
      ],
      "metadata": {
        "id": "W9tI6FA5knLW"
      }
    },
    {
      "cell_type": "code",
      "source": [
        "df['subject'].value_counts()\n"
      ],
      "metadata": {
        "colab": {
          "base_uri": "https://localhost:8080/",
          "height": 1000
        },
        "id": "JkjMG8aRIUSe",
        "outputId": "61b64175-6bb5-4616-b760-dd8fdfb5ef35"
      },
      "execution_count": 7,
      "outputs": [
        {
          "output_type": "execute_result",
          "data": {
            "text/plain": [
              "subject\n",
              "s002    400\n",
              "s003    400\n",
              "s004    400\n",
              "s005    400\n",
              "s007    400\n",
              "s008    400\n",
              "s010    400\n",
              "s011    400\n",
              "s012    400\n",
              "s013    400\n",
              "s015    400\n",
              "s016    400\n",
              "s017    400\n",
              "s018    400\n",
              "s019    400\n",
              "s020    400\n",
              "s021    400\n",
              "s022    400\n",
              "s024    400\n",
              "s025    400\n",
              "s026    400\n",
              "s027    400\n",
              "s028    400\n",
              "s029    400\n",
              "s030    400\n",
              "s031    400\n",
              "s032    400\n",
              "s033    400\n",
              "s034    400\n",
              "s035    400\n",
              "s036    400\n",
              "s037    400\n",
              "s038    400\n",
              "s039    400\n",
              "s040    400\n",
              "s041    400\n",
              "s042    400\n",
              "s043    400\n",
              "s044    400\n",
              "s046    400\n",
              "s047    400\n",
              "s048    400\n",
              "s049    400\n",
              "s050    400\n",
              "s051    400\n",
              "s052    400\n",
              "s053    400\n",
              "s054    400\n",
              "s055    400\n",
              "s056    400\n",
              "s057    400\n",
              "Name: count, dtype: int64"
            ],
            "text/html": [
              "<div>\n",
              "<style scoped>\n",
              "    .dataframe tbody tr th:only-of-type {\n",
              "        vertical-align: middle;\n",
              "    }\n",
              "\n",
              "    .dataframe tbody tr th {\n",
              "        vertical-align: top;\n",
              "    }\n",
              "\n",
              "    .dataframe thead th {\n",
              "        text-align: right;\n",
              "    }\n",
              "</style>\n",
              "<table border=\"1\" class=\"dataframe\">\n",
              "  <thead>\n",
              "    <tr style=\"text-align: right;\">\n",
              "      <th></th>\n",
              "      <th>count</th>\n",
              "    </tr>\n",
              "    <tr>\n",
              "      <th>subject</th>\n",
              "      <th></th>\n",
              "    </tr>\n",
              "  </thead>\n",
              "  <tbody>\n",
              "    <tr>\n",
              "      <th>s002</th>\n",
              "      <td>400</td>\n",
              "    </tr>\n",
              "    <tr>\n",
              "      <th>s003</th>\n",
              "      <td>400</td>\n",
              "    </tr>\n",
              "    <tr>\n",
              "      <th>s004</th>\n",
              "      <td>400</td>\n",
              "    </tr>\n",
              "    <tr>\n",
              "      <th>s005</th>\n",
              "      <td>400</td>\n",
              "    </tr>\n",
              "    <tr>\n",
              "      <th>s007</th>\n",
              "      <td>400</td>\n",
              "    </tr>\n",
              "    <tr>\n",
              "      <th>s008</th>\n",
              "      <td>400</td>\n",
              "    </tr>\n",
              "    <tr>\n",
              "      <th>s010</th>\n",
              "      <td>400</td>\n",
              "    </tr>\n",
              "    <tr>\n",
              "      <th>s011</th>\n",
              "      <td>400</td>\n",
              "    </tr>\n",
              "    <tr>\n",
              "      <th>s012</th>\n",
              "      <td>400</td>\n",
              "    </tr>\n",
              "    <tr>\n",
              "      <th>s013</th>\n",
              "      <td>400</td>\n",
              "    </tr>\n",
              "    <tr>\n",
              "      <th>s015</th>\n",
              "      <td>400</td>\n",
              "    </tr>\n",
              "    <tr>\n",
              "      <th>s016</th>\n",
              "      <td>400</td>\n",
              "    </tr>\n",
              "    <tr>\n",
              "      <th>s017</th>\n",
              "      <td>400</td>\n",
              "    </tr>\n",
              "    <tr>\n",
              "      <th>s018</th>\n",
              "      <td>400</td>\n",
              "    </tr>\n",
              "    <tr>\n",
              "      <th>s019</th>\n",
              "      <td>400</td>\n",
              "    </tr>\n",
              "    <tr>\n",
              "      <th>s020</th>\n",
              "      <td>400</td>\n",
              "    </tr>\n",
              "    <tr>\n",
              "      <th>s021</th>\n",
              "      <td>400</td>\n",
              "    </tr>\n",
              "    <tr>\n",
              "      <th>s022</th>\n",
              "      <td>400</td>\n",
              "    </tr>\n",
              "    <tr>\n",
              "      <th>s024</th>\n",
              "      <td>400</td>\n",
              "    </tr>\n",
              "    <tr>\n",
              "      <th>s025</th>\n",
              "      <td>400</td>\n",
              "    </tr>\n",
              "    <tr>\n",
              "      <th>s026</th>\n",
              "      <td>400</td>\n",
              "    </tr>\n",
              "    <tr>\n",
              "      <th>s027</th>\n",
              "      <td>400</td>\n",
              "    </tr>\n",
              "    <tr>\n",
              "      <th>s028</th>\n",
              "      <td>400</td>\n",
              "    </tr>\n",
              "    <tr>\n",
              "      <th>s029</th>\n",
              "      <td>400</td>\n",
              "    </tr>\n",
              "    <tr>\n",
              "      <th>s030</th>\n",
              "      <td>400</td>\n",
              "    </tr>\n",
              "    <tr>\n",
              "      <th>s031</th>\n",
              "      <td>400</td>\n",
              "    </tr>\n",
              "    <tr>\n",
              "      <th>s032</th>\n",
              "      <td>400</td>\n",
              "    </tr>\n",
              "    <tr>\n",
              "      <th>s033</th>\n",
              "      <td>400</td>\n",
              "    </tr>\n",
              "    <tr>\n",
              "      <th>s034</th>\n",
              "      <td>400</td>\n",
              "    </tr>\n",
              "    <tr>\n",
              "      <th>s035</th>\n",
              "      <td>400</td>\n",
              "    </tr>\n",
              "    <tr>\n",
              "      <th>s036</th>\n",
              "      <td>400</td>\n",
              "    </tr>\n",
              "    <tr>\n",
              "      <th>s037</th>\n",
              "      <td>400</td>\n",
              "    </tr>\n",
              "    <tr>\n",
              "      <th>s038</th>\n",
              "      <td>400</td>\n",
              "    </tr>\n",
              "    <tr>\n",
              "      <th>s039</th>\n",
              "      <td>400</td>\n",
              "    </tr>\n",
              "    <tr>\n",
              "      <th>s040</th>\n",
              "      <td>400</td>\n",
              "    </tr>\n",
              "    <tr>\n",
              "      <th>s041</th>\n",
              "      <td>400</td>\n",
              "    </tr>\n",
              "    <tr>\n",
              "      <th>s042</th>\n",
              "      <td>400</td>\n",
              "    </tr>\n",
              "    <tr>\n",
              "      <th>s043</th>\n",
              "      <td>400</td>\n",
              "    </tr>\n",
              "    <tr>\n",
              "      <th>s044</th>\n",
              "      <td>400</td>\n",
              "    </tr>\n",
              "    <tr>\n",
              "      <th>s046</th>\n",
              "      <td>400</td>\n",
              "    </tr>\n",
              "    <tr>\n",
              "      <th>s047</th>\n",
              "      <td>400</td>\n",
              "    </tr>\n",
              "    <tr>\n",
              "      <th>s048</th>\n",
              "      <td>400</td>\n",
              "    </tr>\n",
              "    <tr>\n",
              "      <th>s049</th>\n",
              "      <td>400</td>\n",
              "    </tr>\n",
              "    <tr>\n",
              "      <th>s050</th>\n",
              "      <td>400</td>\n",
              "    </tr>\n",
              "    <tr>\n",
              "      <th>s051</th>\n",
              "      <td>400</td>\n",
              "    </tr>\n",
              "    <tr>\n",
              "      <th>s052</th>\n",
              "      <td>400</td>\n",
              "    </tr>\n",
              "    <tr>\n",
              "      <th>s053</th>\n",
              "      <td>400</td>\n",
              "    </tr>\n",
              "    <tr>\n",
              "      <th>s054</th>\n",
              "      <td>400</td>\n",
              "    </tr>\n",
              "    <tr>\n",
              "      <th>s055</th>\n",
              "      <td>400</td>\n",
              "    </tr>\n",
              "    <tr>\n",
              "      <th>s056</th>\n",
              "      <td>400</td>\n",
              "    </tr>\n",
              "    <tr>\n",
              "      <th>s057</th>\n",
              "      <td>400</td>\n",
              "    </tr>\n",
              "  </tbody>\n",
              "</table>\n",
              "</div><br><label><b>dtype:</b> int64</label>"
            ]
          },
          "metadata": {},
          "execution_count": 7
        }
      ]
    },
    {
      "cell_type": "markdown",
      "source": [
        "**STEP 8: Filtering and Labeling the Data**"
      ],
      "metadata": {
        "id": "v6hVmasmjwn9"
      }
    },
    {
      "cell_type": "code",
      "source": [
        "# Filter only two subjects\n",
        "df_filtered = df[df['subject'].isin(['s027', 's028'])].copy()\n",
        "\n",
        "# Label: 1 for s027 (real), 0 for s028 (fake)\n",
        "df_filtered['label'] = (df_filtered['subject'] == 's027').astype(int)\n"
      ],
      "metadata": {
        "id": "MdZWOiiwJxs7"
      },
      "execution_count": 8,
      "outputs": []
    },
    {
      "cell_type": "markdown",
      "source": [
        "**STEP 9: Selecting Timing Feature Columns**"
      ],
      "metadata": {
        "id": "-2Sc4LetjnWC"
      }
    },
    {
      "cell_type": "code",
      "source": [
        "# Get only timing-related features\n",
        "feature_cols = [col for col in df_filtered.columns if col.startswith((\"H.\", \"DD.\", \"UD.\"))]\n",
        "\n",
        "# Drop rows with missing values (if any)\n",
        "X = df_filtered[feature_cols].dropna()\n",
        "y = df_filtered['label']\n",
        "\n",
        "# Optional: confirm shape\n",
        "print(\"Total Samples:\", len(X))\n"
      ],
      "metadata": {
        "colab": {
          "base_uri": "https://localhost:8080/"
        },
        "id": "RHiU-8neJ0R4",
        "outputId": "e2700b36-73e8-4029-db64-d198d6720a5e"
      },
      "execution_count": 9,
      "outputs": [
        {
          "output_type": "stream",
          "name": "stdout",
          "text": [
            "Total Samples: 800\n"
          ]
        }
      ]
    },
    {
      "cell_type": "markdown",
      "source": [
        "**STEP 10: Train-Test Split with Stratify**"
      ],
      "metadata": {
        "id": "-iSiFNuGjS5l"
      }
    },
    {
      "cell_type": "code",
      "source": [
        "from sklearn.model_selection import train_test_split\n",
        "\n",
        "X_train, X_test, y_train, y_test = train_test_split(\n",
        "    X, y, test_size=0.3, stratify=y, random_state=42\n",
        ")\n"
      ],
      "metadata": {
        "id": "oTi-QpJ8J6cU"
      },
      "execution_count": 10,
      "outputs": []
    },
    {
      "cell_type": "markdown",
      "source": [
        "**STEP 11: Training the Model**"
      ],
      "metadata": {
        "id": "i9PPVtzNjNEw"
      }
    },
    {
      "cell_type": "code",
      "source": [
        "from sklearn.ensemble import RandomForestClassifier\n",
        "from sklearn.metrics import accuracy_score\n",
        "\n",
        "model = RandomForestClassifier()\n",
        "model.fit(X_train, y_train)\n",
        "\n",
        "y_pred = model.predict(X_test)\n",
        "print(\"Authentication Accuracy:\", accuracy_score(y_test, y_pred))\n"
      ],
      "metadata": {
        "colab": {
          "base_uri": "https://localhost:8080/"
        },
        "id": "OoAdG1XjKAzg",
        "outputId": "a31fd7d0-0e49-4a4b-a3d4-ff61815fea70"
      },
      "execution_count": 11,
      "outputs": [
        {
          "output_type": "stream",
          "name": "stdout",
          "text": [
            "Authentication Accuracy: 1.0\n"
          ]
        }
      ]
    },
    {
      "cell_type": "markdown",
      "source": [
        "**STEP 12: Test Real & Fake Users**   **(MAIN RESULTANT STEP)**\n",
        "\n",
        "Simulation of Authentication & Encryption/Decryption Flow."
      ],
      "metadata": {
        "id": "KOLX2PoVi_Nk"
      }
    },
    {
      "cell_type": "code",
      "source": [
        "real_indices = y_test[y_test == 1].index\n",
        "fake_indices = y_test[y_test == 0].index\n",
        "\n",
        "sample_input_real = X_test.loc[[real_indices[0]]]\n",
        "sample_input_fake = X_test.loc[[fake_indices[0]]]\n",
        "\n",
        "# Real user test\n",
        "auth_real = model.predict(sample_input_real)\n",
        "print(\"\\n===== REAL USER ATTEMPT =====\")\n",
        "if auth_real[0] == 1:\n",
        "    print(\"User Authenticated. Proceeding to encrypt...\\n\")\n",
        "    message = \"This is a confidential message from the real user.\"\n",
        "    encrypted = encrypt_message(message)\n",
        "    print(\"Encrypted:\", encrypted, \"\\n\")\n",
        "    decrypted = decrypt_message(encrypted)\n",
        "    print(\"Decrypted:\", decrypted)\n",
        "else:\n",
        "    print(\"Authentication Failed. Encryption blocked.\")\n",
        "\n",
        "# Fake user test\n",
        "auth_fake = model.predict(sample_input_fake)\n",
        "print(\"\\n===== FAKE USER ATTEMPT =====\")\n",
        "if auth_fake[0] == 1:\n",
        "    print(\"User Authenticated. Proceeding to encrypt...\\n\")\n",
        "    message = \"This is a fake user's message.\"\n",
        "    encrypted = encrypt_message(message)\n",
        "    print(\"Encrypted:\", encrypted, \"\\n\")\n",
        "    decrypted = decrypt_message(encrypted)\n",
        "    print(\"Decrypted:\", decrypted)\n",
        "else:\n",
        "    print(\"Authentication Failed. Message encryption blocked.\")\n"
      ],
      "metadata": {
        "colab": {
          "base_uri": "https://localhost:8080/"
        },
        "id": "KfAifEjJKFks",
        "outputId": "956336ca-2781-43b6-f578-50dc386e67ea"
      },
      "execution_count": 12,
      "outputs": [
        {
          "output_type": "stream",
          "name": "stdout",
          "text": [
            "\n",
            "===== REAL USER ATTEMPT =====\n",
            "User Authenticated. Proceeding to encrypt...\n",
            "\n",
            "Encrypted: gAAAAABof8zBJjQ99q0UIOqUVpFf0NZxCEQkBBUlRPhFWi1sX8_c0QxoC9StOMP_YWR6nHJ_fvoG4lxrXNo4OLz656--wsKQ4vd3zgso1Ydf06zhQI-b9K2qKIFD9RNk8EnO19xCr9KtvT7eo0rm0M9g51qIhifWgw== \n",
            "\n",
            "Decrypted: This is a confidential message from the real user.\n",
            "\n",
            "===== FAKE USER ATTEMPT =====\n",
            "Authentication Failed. Message encryption blocked.\n"
          ]
        }
      ]
    },
    {
      "cell_type": "markdown",
      "source": [
        "**STEP 13: A Simple GUI User Form for encrypting and decrypting a message**"
      ],
      "metadata": {
        "id": "Wd6aAzoGgvn3"
      }
    },
    {
      "cell_type": "code",
      "source": [
        "if auth_real[0] == 1:\n",
        "    user_message = input(\"Enter a message to encrypt: \")\n",
        "    encrypted = encrypt_message(user_message)\n",
        "    print(\"Encrypted:\", encrypted)\n",
        "    print(\"Decrypted:\", decrypt_message(encrypted))\n"
      ],
      "metadata": {
        "colab": {
          "base_uri": "https://localhost:8080/"
        },
        "id": "1YMfqa98KjF4",
        "outputId": "e9d59a76-03e0-41d1-82b5-a0deae1d9348"
      },
      "execution_count": 13,
      "outputs": [
        {
          "output_type": "stream",
          "name": "stdout",
          "text": [
            "Enter a message to encrypt: confidential Message \n",
            "Encrypted: gAAAAABof8zVffLvwFNFOb0dftlF-6VtozZhs6T8UcSXM8sMbL7cV0mIBf1WOIsbEherAslHabs9zg2j50SYQ0BdsyY7pUepqIdFVsflMaahvRyzvvXt-K8=\n",
            "Decrypted: confidential Message \n"
          ]
        }
      ]
    },
    {
      "cell_type": "markdown",
      "source": [
        "**STEP 14: A Hashing Step for Integrity Check**"
      ],
      "metadata": {
        "id": "HAEtKoq-ggaV"
      }
    },
    {
      "cell_type": "code",
      "source": [
        "import hashlib\n",
        "\n",
        "def generate_hash(message):\n",
        "    return hashlib.sha256(message.encode()).hexdigest()\n",
        "\n",
        "# Example usage\n",
        "msg = \"This is a secure message.\"\n",
        "msg_hash = generate_hash(msg)\n",
        "print(\"SHA-256 Hash:\", msg_hash)\n"
      ],
      "metadata": {
        "colab": {
          "base_uri": "https://localhost:8080/"
        },
        "id": "ZFBwNoA-LEHk",
        "outputId": "bc106eae-e385-4ae4-f1d4-eafaee7e2c9e"
      },
      "execution_count": 14,
      "outputs": [
        {
          "output_type": "stream",
          "name": "stdout",
          "text": [
            "SHA-256 Hash: 71fb105ab3e5d388caa984f7f653297ca15dbd30ab74d41c8fa65ba893ac9113\n"
          ]
        }
      ]
    },
    {
      "cell_type": "markdown",
      "source": [
        "**STEP 15: Confusion Matrix and Classification Report**"
      ],
      "metadata": {
        "id": "4YmGVOMfgOvF"
      }
    },
    {
      "cell_type": "code",
      "source": [
        "from sklearn.metrics import classification_report, confusion_matrix\n",
        "\n",
        "print(confusion_matrix(y_test, y_pred))\n",
        "print(classification_report(y_test, y_pred))\n"
      ],
      "metadata": {
        "colab": {
          "base_uri": "https://localhost:8080/"
        },
        "id": "R6KIF5CBLTY0",
        "outputId": "d0a10132-26f6-48f2-c54d-e5ac76f45145"
      },
      "execution_count": 15,
      "outputs": [
        {
          "output_type": "stream",
          "name": "stdout",
          "text": [
            "[[120   0]\n",
            " [  0 120]]\n",
            "              precision    recall  f1-score   support\n",
            "\n",
            "           0       1.00      1.00      1.00       120\n",
            "           1       1.00      1.00      1.00       120\n",
            "\n",
            "    accuracy                           1.00       240\n",
            "   macro avg       1.00      1.00      1.00       240\n",
            "weighted avg       1.00      1.00      1.00       240\n",
            "\n"
          ]
        }
      ]
    },
    {
      "cell_type": "markdown",
      "source": [
        "**STEP 16: Export the Encrypted Message to a File and To decrypt from the file**"
      ],
      "metadata": {
        "id": "OVHko_tBd5bo"
      }
    },
    {
      "cell_type": "code",
      "source": [
        "# Save encrypted message\n",
        "with open(\"encrypted_message.txt\", \"w\") as file:\n",
        "    file.write(encrypted)\n"
      ],
      "metadata": {
        "id": "a4Qa3sQ9Le6L"
      },
      "execution_count": 16,
      "outputs": []
    },
    {
      "cell_type": "code",
      "source": [
        "with open(\"encrypted_message.txt\", \"r\") as file:\n",
        "    encrypted_loaded = file.read()\n",
        "    print(\"Decrypted from file:\", decrypt_message(encrypted_loaded))\n"
      ],
      "metadata": {
        "colab": {
          "base_uri": "https://localhost:8080/"
        },
        "id": "5SW9XPswMSAK",
        "outputId": "432312c1-c3f8-4f7a-8fd1-982720d34e0e"
      },
      "execution_count": 17,
      "outputs": [
        {
          "output_type": "stream",
          "name": "stdout",
          "text": [
            "Decrypted from file: confidential Message \n"
          ]
        }
      ]
    },
    {
      "cell_type": "markdown",
      "source": [
        "**STEP 17: Plot Feature Importance from Random Forest**"
      ],
      "metadata": {
        "id": "PAWH1YRndo8y"
      }
    },
    {
      "cell_type": "code",
      "source": [
        "import matplotlib.pyplot as plt\n",
        "\n",
        "importances = model.feature_importances_\n",
        "indices = np.argsort(importances)[-10:]  # top 10\n",
        "\n",
        "plt.figure(figsize=(10, 5))\n",
        "plt.title(\"Top 10 Important Keystroke Features\")\n",
        "plt.barh(range(len(indices)), importances[indices], align=\"center\")\n",
        "plt.yticks(range(len(indices)), [feature_cols[i] for i in indices])\n",
        "plt.xlabel(\"Feature Importance\")\n",
        "plt.tight_layout()\n",
        "plt.show()\n"
      ],
      "metadata": {
        "colab": {
          "base_uri": "https://localhost:8080/",
          "height": 507
        },
        "id": "NYo_QTmMMdbg",
        "outputId": "a425f5ed-0875-403b-e0a0-fedfe20683ed"
      },
      "execution_count": 18,
      "outputs": [
        {
          "output_type": "display_data",
          "data": {
            "text/plain": [
              "<Figure size 1000x500 with 1 Axes>"
            ],
            "image/png": "[encoded data removed]"
          },
          "metadata": {}
        }
      ]
    },
    {
      "cell_type": "markdown",
      "source": [
        "**STEP 18: Timestamp of Message (Optional Final Step)**"
      ],
      "metadata": {
        "id": "kmDmr1YHdJU6"
      }
    },
    {
      "cell_type": "code",
      "source": [
        "from datetime import datetime\n",
        "\n",
        "timestamp = datetime.now().strftime(\"%Y-%m-%d %H:%M:%S\")\n",
        "print(f\"Message sent at {timestamp}\")\n"
      ],
      "metadata": {
        "colab": {
          "base_uri": "https://localhost:8080/"
        },
        "id": "azQov_2FMmAN",
        "outputId": "803a8100-263d-4e61-a4cd-62054e2b11c5"
      },
      "execution_count": 19,
      "outputs": [
        {
          "output_type": "stream",
          "name": "stdout",
          "text": [
            "Message sent at 2025-07-22 17:40:11\n"
          ]
        }
      ]
    }
  ]
}